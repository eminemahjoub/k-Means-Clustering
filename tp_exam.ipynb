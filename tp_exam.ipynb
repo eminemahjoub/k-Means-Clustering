{
  "nbformat": 4,
  "nbformat_minor": 0,
  "metadata": {
    "colab": {
      "provenance": []
    },
    "kernelspec": {
      "name": "python3",
      "display_name": "Python 3"
    },
    "language_info": {
      "name": "python"
    }
  },
  "cells": [
    {
      "cell_type": "code",
      "execution_count": null,
      "metadata": {
        "id": "cFAapIJ-BTIa"
      },
      "outputs": [],
      "source": [
        "import pandas as pd\n",
        "import matplotlib.pyplot as plt\n",
        "import seaborn as sns\n",
        "from sklearn.cluster import KMeans\n",
        "from sklearn.preprocessing import StandardScaler\n"
      ]
    },
    {
      "cell_type": "code",
      "source": [
        "df = pd.read_csv('Mall_Customers.csv')"
      ],
      "metadata": {
        "id": "q4o3WigEvtn9"
      },
      "execution_count": null,
      "outputs": []
    },
    {
      "cell_type": "code",
      "source": [
        "summary_stats = df.describe()\n",
        "print(summary_stats)"
      ],
      "metadata": {
        "id": "Yyat8WHGvv_b"
      },
      "execution_count": null,
      "outputs": []
    },
    {
      "cell_type": "code",
      "source": [
        "sns.pairplot(df, hue='Genre', vars=['Spending Score (1-100)', 'Annual Income (k$)', 'Age'])\n",
        "plt.show()"
      ],
      "metadata": {
        "id": "nUDHvArwvy52"
      },
      "execution_count": null,
      "outputs": []
    },
    {
      "cell_type": "code",
      "source": [
        "scaler = StandardScaler()\n",
        "scaled_features = scaler.fit_transform(df[['Age', 'Spending Score (1-100)']])\n",
        "df_scaled = pd.DataFrame(scaled_features, columns=['Age', 'Spending Score (1-100)'])"
      ],
      "metadata": {
        "id": "MRheuuOMv1KC"
      },
      "execution_count": null,
      "outputs": []
    },
    {
      "cell_type": "code",
      "source": [
        "kmeans = KMeans(n_clusters=3, random_state=42)\n",
        "df['Cluster'] = kmeans.fit_predict(df_scaled)"
      ],
      "metadata": {
        "id": "yFFMjTxzv3o-"
      },
      "execution_count": null,
      "outputs": []
    },
    {
      "cell_type": "code",
      "source": [
        "kmeans_elkan = KMeans(n_clusters=3, algorithm='elkan', random_state=42)\n",
        "df['Cluster Elkan'] = kmeans_elkan.fit_predict(df_scaled)"
      ],
      "metadata": {
        "id": "4jSzYoELv_qH"
      },
      "execution_count": null,
      "outputs": []
    },
    {
      "cell_type": "code",
      "source": [
        "plt.figure(figsize=(12, 6))\n",
        "\n",
        "plt.scatter(df['Age'], df['Spending Score (1-100)'], c=df['Cluster'], cmap='viridis', s=50)\n",
        "plt.title('Clusters K-means')\n",
        "plt.xlabel('Age')\n",
        "plt.ylabel('Spending Score')\n",
        "plt.show()"
      ],
      "metadata": {
        "id": "EdgZAvIbwEVu"
      },
      "execution_count": null,
      "outputs": []
    },
    {
      "cell_type": "code",
      "source": [
        "plt.figure(figsize=(12, 6))\n",
        "\n",
        "plt.scatter(df['Age'], df['Spending Score (1-100)'], c=df['Cluster'], cmap='viridis', s=50)\n",
        "plt.scatter(kmeans.cluster_centers_[:, 0], kmeans.cluster_centers_[:, 1], s=200, marker='X', c='red')\n",
        "plt.title('Clusters K-means avec Centres')\n",
        "plt.xlabel('Age')\n",
        "plt.ylabel('Spending Score')\n",
        "plt.show()"
      ],
      "metadata": {
        "id": "VF_9t9tdwIgl"
      },
      "execution_count": null,
      "outputs": []
    }
  ]
}